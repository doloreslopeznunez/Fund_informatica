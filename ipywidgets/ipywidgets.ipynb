import ipywidgets as widgets
from ipywidgets import HTML, VBox
from IPython.display import display

h1_main_section = widgets.HTML("""
    <h1 style='font-size:25px; color:black'>
        <b>Welcome to my first API!</b>
    </h1>""")

main_text = widgets.HTML("""
    <p style='font-size:25px; color:red'>
    This is an API built in Python 
    </p>""")

main_section_vbox = widgets.VBox([h1_main_section, main_text])
display(main_section_vbox)

from ipywidgets import Layout
layouts_intro = Layout(display='flex',
                    flex_flow='flex-wrap',
                    flex_direction='column',
                    width='61%',
                    margin='0px 10px 5px 20px',
                    padding='2px 4% 0 1%',)
main_section_vbox = widgets.VBox([h1_main_section, main_text], layout=layouts_intro)
